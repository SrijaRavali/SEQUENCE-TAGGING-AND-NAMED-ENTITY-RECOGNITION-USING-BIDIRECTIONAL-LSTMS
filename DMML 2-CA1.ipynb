{
 "cells": [
  {
   "cell_type": "code",
   "execution_count": 1,
   "id": "4614a3c1",
   "metadata": {},
   "outputs": [],
   "source": [
    "import numpy as np\n",
    "import pandas as pd\n",
    "import matplotlib.pyplot as plt\n",
    "import seaborn as sns\n",
    "import tensorflow as tf"
   ]
  },
  {
   "cell_type": "code",
   "execution_count": 2,
   "id": "2419ea93",
   "metadata": {},
   "outputs": [
    {
     "data": {
      "text/html": [
       "<div>\n",
       "<style scoped>\n",
       "    .dataframe tbody tr th:only-of-type {\n",
       "        vertical-align: middle;\n",
       "    }\n",
       "\n",
       "    .dataframe tbody tr th {\n",
       "        vertical-align: top;\n",
       "    }\n",
       "\n",
       "    .dataframe thead th {\n",
       "        text-align: right;\n",
       "    }\n",
       "</style>\n",
       "<table border=\"1\" class=\"dataframe\">\n",
       "  <thead>\n",
       "    <tr style=\"text-align: right;\">\n",
       "      <th></th>\n",
       "      <th>Sentence #</th>\n",
       "      <th>Word</th>\n",
       "      <th>POS</th>\n",
       "      <th>Tag</th>\n",
       "    </tr>\n",
       "  </thead>\n",
       "  <tbody>\n",
       "    <tr>\n",
       "      <th>0</th>\n",
       "      <td>Sentence: 1</td>\n",
       "      <td>Thousands</td>\n",
       "      <td>NNS</td>\n",
       "      <td>O</td>\n",
       "    </tr>\n",
       "    <tr>\n",
       "      <th>1</th>\n",
       "      <td>NaN</td>\n",
       "      <td>of</td>\n",
       "      <td>IN</td>\n",
       "      <td>O</td>\n",
       "    </tr>\n",
       "    <tr>\n",
       "      <th>2</th>\n",
       "      <td>NaN</td>\n",
       "      <td>demonstrators</td>\n",
       "      <td>NNS</td>\n",
       "      <td>O</td>\n",
       "    </tr>\n",
       "    <tr>\n",
       "      <th>3</th>\n",
       "      <td>NaN</td>\n",
       "      <td>have</td>\n",
       "      <td>VBP</td>\n",
       "      <td>O</td>\n",
       "    </tr>\n",
       "    <tr>\n",
       "      <th>4</th>\n",
       "      <td>NaN</td>\n",
       "      <td>marched</td>\n",
       "      <td>VBN</td>\n",
       "      <td>O</td>\n",
       "    </tr>\n",
       "    <tr>\n",
       "      <th>...</th>\n",
       "      <td>...</td>\n",
       "      <td>...</td>\n",
       "      <td>...</td>\n",
       "      <td>...</td>\n",
       "    </tr>\n",
       "    <tr>\n",
       "      <th>1048359</th>\n",
       "      <td>NaN</td>\n",
       "      <td>NaN</td>\n",
       "      <td>NaN</td>\n",
       "      <td>NaN</td>\n",
       "    </tr>\n",
       "    <tr>\n",
       "      <th>1048360</th>\n",
       "      <td>NaN</td>\n",
       "      <td>NaN</td>\n",
       "      <td>NaN</td>\n",
       "      <td>NaN</td>\n",
       "    </tr>\n",
       "    <tr>\n",
       "      <th>1048361</th>\n",
       "      <td>NaN</td>\n",
       "      <td>NaN</td>\n",
       "      <td>NaN</td>\n",
       "      <td>NaN</td>\n",
       "    </tr>\n",
       "    <tr>\n",
       "      <th>1048362</th>\n",
       "      <td>NaN</td>\n",
       "      <td>NaN</td>\n",
       "      <td>NaN</td>\n",
       "      <td>NaN</td>\n",
       "    </tr>\n",
       "    <tr>\n",
       "      <th>1048363</th>\n",
       "      <td>NaN</td>\n",
       "      <td>NaN</td>\n",
       "      <td>NaN</td>\n",
       "      <td>NaN</td>\n",
       "    </tr>\n",
       "  </tbody>\n",
       "</table>\n",
       "<p>1048364 rows × 4 columns</p>\n",
       "</div>"
      ],
      "text/plain": [
       "          Sentence #           Word  POS  Tag\n",
       "0        Sentence: 1      Thousands  NNS    O\n",
       "1                NaN             of   IN    O\n",
       "2                NaN  demonstrators  NNS    O\n",
       "3                NaN           have  VBP    O\n",
       "4                NaN        marched  VBN    O\n",
       "...              ...            ...  ...  ...\n",
       "1048359          NaN            NaN  NaN  NaN\n",
       "1048360          NaN            NaN  NaN  NaN\n",
       "1048361          NaN            NaN  NaN  NaN\n",
       "1048362          NaN            NaN  NaN  NaN\n",
       "1048363          NaN            NaN  NaN  NaN\n",
       "\n",
       "[1048364 rows x 4 columns]"
      ]
     },
     "execution_count": 2,
     "metadata": {},
     "output_type": "execute_result"
    }
   ],
   "source": [
    "data = pd.read_csv(\"D:/NCI Assignments/DMML-2/DMML Data/ner_dataset.csv\", encoding= 'unicode_escape')\n",
    "data"
   ]
  },
  {
   "cell_type": "code",
   "execution_count": 3,
   "id": "d0acb96d",
   "metadata": {},
   "outputs": [
    {
     "name": "stdout",
     "output_type": "stream",
     "text": [
      "              Sentence #           Word  POS Tag\n",
      "0            Sentence: 1      Thousands  NNS   O\n",
      "1            Sentence: 1             of   IN   O\n",
      "2            Sentence: 1  demonstrators  NNS   O\n",
      "3            Sentence: 1           have  VBP   O\n",
      "4            Sentence: 1        marched  VBN   O\n",
      "...                  ...            ...  ...  ..\n",
      "1048359  Sentence: 46090              .    .   O\n",
      "1048360  Sentence: 46090              .    .   O\n",
      "1048361  Sentence: 46090              .    .   O\n",
      "1048362  Sentence: 46090              .    .   O\n",
      "1048363  Sentence: 46090              .    .   O\n",
      "\n",
      "[1048364 rows x 4 columns]\n"
     ]
    }
   ],
   "source": [
    "# Fill missing values using the 'ffill' method\n",
    "data.fillna(method = 'ffill', inplace = True)\n",
    "\n",
    "# Print the resulting data frame\n",
    "print(data)\n"
   ]
  },
  {
   "cell_type": "code",
   "execution_count": 4,
   "id": "8b503fa9",
   "metadata": {},
   "outputs": [
    {
     "name": "stdout",
     "output_type": "stream",
     "text": [
      "    Sentence #                                           Sentence  \\\n",
      "0  Sentence: 1  Thousands of demonstrators have marched throug...   \n",
      "1  Sentence: 2  Families of soldiers killed in the conflict jo...   \n",
      "2  Sentence: 3  They marched from the Houses of Parliament to ...   \n",
      "3  Sentence: 4  Police put the number of marchers at 10,000 wh...   \n",
      "4  Sentence: 5  The protest comes on the eve of the annual con...   \n",
      "\n",
      "                                                 POS  \\\n",
      "0  ['NNS', 'IN', 'NNS', 'VBP', 'VBN', 'IN', 'NNP'...   \n",
      "1  ['NNS', 'IN', 'NNS', 'VBN', 'IN', 'DT', 'NN', ...   \n",
      "2  ['PRP', 'VBD', 'IN', 'DT', 'NNS', 'IN', 'NN', ...   \n",
      "3  ['NNS', 'VBD', 'DT', 'NN', 'IN', 'NNS', 'IN', ...   \n",
      "4  ['DT', 'NN', 'VBZ', 'IN', 'DT', 'NN', 'IN', 'D...   \n",
      "\n",
      "                                                 Tag  \n",
      "0  ['O', 'O', 'O', 'O', 'O', 'O', 'B-geo', 'O', '...  \n",
      "1  ['O', 'O', 'O', 'O', 'O', 'O', 'O', 'O', 'O', ...  \n",
      "2  ['O', 'O', 'O', 'O', 'O', 'O', 'O', 'O', 'O', ...  \n",
      "3  ['O', 'O', 'O', 'O', 'O', 'O', 'O', 'O', 'O', ...  \n",
      "4  ['O', 'O', 'O', 'O', 'O', 'O', 'O', 'O', 'O', ...  \n"
     ]
    }
   ],
   "source": [
    "# The path to the NER corpus\n",
    "ner_corpus_path = \"D:/NCI Assignments/DMML-2/DMML Data/ner.csv\"\n",
    "\n",
    "# Read the NER corpus into a Pandas data frame\n",
    "new_data = pd.read_csv(ner_corpus_path, encoding=\"utf-8\")\n",
    "\n",
    "# Print the first five rows of the data frame\n",
    "print(new_data.head())\n"
   ]
  },
  {
   "cell_type": "code",
   "execution_count": 5,
   "id": "31b345c9",
   "metadata": {},
   "outputs": [],
   "source": [
    "def joining_the_sentence(sentence_number):\n",
    "    sentence_number = str(sentence_number)\n",
    "\n",
    "    # Get the words in the sentence\n",
    "    sentence_words = data.loc[data[\"Sentence #\"] == f\"Sentence: {sentence_number}\", \"Word\"].tolist()\n",
    "\n",
    "    # Join the words into a sentence\n",
    "    joined_sentence = \" \".join(sentence_words)\n",
    "\n",
    "    return joined_sentence"
   ]
  },
  {
   "cell_type": "code",
   "execution_count": 6,
   "id": "fce5443d",
   "metadata": {},
   "outputs": [
    {
     "name": "stdout",
     "output_type": "stream",
     "text": [
      "Iranian officials say they expect to get access to sealed sensitive parts of the plant Wednesday , after an IAEA surveillance system begins functioning .\n"
     ]
    }
   ],
   "source": [
    "def joining_the_sentence(sentence_number):\n",
    "    sentence_number = str(sentence_number)\n",
    "\n",
    "    # Get the words in the sentence\n",
    "    sentence_words = data.loc[data[\"Sentence #\"] == f\"Sentence: {sentence_number}\", \"Word\"].tolist()\n",
    "\n",
    "    # Join the words into a sentence\n",
    "    joined_sentence = \" \".join(sentence_words)\n",
    "\n",
    "    return joined_sentence\n",
    "\n",
    "print(joining_the_sentence(sentence_number=10))"
   ]
  },
  {
   "cell_type": "code",
   "execution_count": 7,
   "id": "2f13f126",
   "metadata": {},
   "outputs": [
    {
     "data": {
      "text/html": [
       "<div>\n",
       "<style scoped>\n",
       "    .dataframe tbody tr th:only-of-type {\n",
       "        vertical-align: middle;\n",
       "    }\n",
       "\n",
       "    .dataframe tbody tr th {\n",
       "        vertical-align: top;\n",
       "    }\n",
       "\n",
       "    .dataframe thead th {\n",
       "        text-align: right;\n",
       "    }\n",
       "</style>\n",
       "<table border=\"1\" class=\"dataframe\">\n",
       "  <thead>\n",
       "    <tr style=\"text-align: right;\">\n",
       "      <th></th>\n",
       "      <th>Sentence #</th>\n",
       "      <th>Word</th>\n",
       "      <th>POS</th>\n",
       "      <th>Tag</th>\n",
       "    </tr>\n",
       "  </thead>\n",
       "  <tbody>\n",
       "    <tr>\n",
       "      <th>count</th>\n",
       "      <td>1048364</td>\n",
       "      <td>1048364</td>\n",
       "      <td>1048364</td>\n",
       "      <td>1048364</td>\n",
       "    </tr>\n",
       "    <tr>\n",
       "      <th>unique</th>\n",
       "      <td>46090</td>\n",
       "      <td>34538</td>\n",
       "      <td>42</td>\n",
       "      <td>17</td>\n",
       "    </tr>\n",
       "    <tr>\n",
       "      <th>top</th>\n",
       "      <td>Sentence: 46090</td>\n",
       "      <td>.</td>\n",
       "      <td>NN</td>\n",
       "      <td>O</td>\n",
       "    </tr>\n",
       "    <tr>\n",
       "      <th>freq</th>\n",
       "      <td>40441</td>\n",
       "      <td>86330</td>\n",
       "      <td>140160</td>\n",
       "      <td>894054</td>\n",
       "    </tr>\n",
       "  </tbody>\n",
       "</table>\n",
       "</div>"
      ],
      "text/plain": [
       "             Sentence #     Word      POS      Tag\n",
       "count           1048364  1048364  1048364  1048364\n",
       "unique            46090    34538       42       17\n",
       "top     Sentence: 46090        .       NN        O\n",
       "freq              40441    86330   140160   894054"
      ]
     },
     "execution_count": 7,
     "metadata": {},
     "output_type": "execute_result"
    }
   ],
   "source": [
    "data.describe()"
   ]
  },
  {
   "cell_type": "code",
   "execution_count": 8,
   "id": "2d6c464a",
   "metadata": {},
   "outputs": [
    {
     "data": {
      "text/plain": [
       "(1048364, 4)"
      ]
     },
     "execution_count": 8,
     "metadata": {},
     "output_type": "execute_result"
    }
   ],
   "source": [
    "data.shape"
   ]
  },
  {
   "cell_type": "code",
   "execution_count": 9,
   "id": "196ed77e",
   "metadata": {},
   "outputs": [
    {
     "name": "stdout",
     "output_type": "stream",
     "text": [
      "46090\n"
     ]
    }
   ],
   "source": [
    "# Find the number of unique sentence numbers\n",
    "number_of_unique_sentence_numbers = len(np.unique(data[\"Sentence #\"]))\n",
    "\n",
    "print(number_of_unique_sentence_numbers)"
   ]
  },
  {
   "cell_type": "code",
   "execution_count": 10,
   "id": "062b0d52",
   "metadata": {},
   "outputs": [
    {
     "name": "stdout",
     "output_type": "stream",
     "text": [
      "No. of unique words: 34538\n",
      "No. of unique tags: 17\n"
     ]
    }
   ],
   "source": [
    "# Find the number of unique words and tags\n",
    "number_of_unique_words = data[\"Word\"].nunique()\n",
    "number_of_unique_tags = data[\"Tag\"].nunique()\n",
    "\n",
    "# Print the results\n",
    "print(\"No. of unique words:\", number_of_unique_words)\n",
    "print(\"No. of unique tags:\", number_of_unique_tags)\n"
   ]
  },
  {
   "cell_type": "code",
   "execution_count": 11,
   "id": "5c3d13ea",
   "metadata": {},
   "outputs": [
    {
     "name": "stdout",
     "output_type": "stream",
     "text": [
      "['O' 'B-geo' 'B-gpe' 'B-per' 'I-geo' 'B-org' 'I-org' 'B-tim' 'B-art'\n",
      " 'I-art' 'I-per' 'I-gpe' 'I-tim' 'B-nat' 'B-eve' 'I-eve' 'I-nat']\n"
     ]
    }
   ],
   "source": [
    "# Get the unique tags\n",
    "unique_tags = data[\"Tag\"].unique()\n",
    "\n",
    "# Print the unique tags\n",
    "print(unique_tags)\n"
   ]
  },
  {
   "cell_type": "code",
   "execution_count": 12,
   "id": "fb5c83aa",
   "metadata": {},
   "outputs": [],
   "source": [
    "import pandas as pd\n",
    "\n",
    "def total_words_tags(unique_tags, data):\n",
    "    tags_count = {}\n",
    "\n",
    "    for tag in unique_tags:\n",
    "        # Get the number of words with the tag\n",
    "        len_tag = data.loc[data[\"Tag\"] == tag, :].shape[0]\n",
    "\n",
    "        # Add the number of words to the tags_count dictionary\n",
    "        tags_count[tag] = len_tag\n",
    "\n",
    "    return tags_count"
   ]
  },
  {
   "cell_type": "code",
   "execution_count": 13,
   "id": "3fb480d4",
   "metadata": {},
   "outputs": [
    {
     "name": "stdout",
     "output_type": "stream",
     "text": [
      "{'O': 894054, 'B-geo': 36180, 'B-gpe': 15228, 'B-per': 16323, 'I-geo': 7136, 'B-org': 19306, 'I-org': 16119, 'B-tim': 19518, 'B-art': 383, 'I-art': 284, 'I-per': 16587, 'I-gpe': 188, 'I-tim': 6276, 'B-nat': 196, 'B-eve': 296, 'I-eve': 241, 'I-nat': 49}\n"
     ]
    }
   ],
   "source": [
    "tags_count = total_words_tags(unique_tags, data)\n",
    "print(tags_count)"
   ]
  },
  {
   "cell_type": "code",
   "execution_count": 14,
   "id": "71c4c05b",
   "metadata": {},
   "outputs": [
    {
     "data": {
      "image/png": "[encoded data removed]",
      "text/plain": [
       "<Figure size 1000x600 with 1 Axes>"
      ]
     },
     "metadata": {},
     "output_type": "display_data"
    }
   ],
   "source": [
    "plt.figure(figsize=(10, 6))\n",
    "sns.countplot(data=data, x='Tag', log=True, color='teal')\n",
    "plt.xlabel('Tags', fontsize=16)\n",
    "plt.ylabel('Count', fontsize=16)\n",
    "plt.title(\"Tags Frequency\", fontsize=20)\n",
    "plt.grid(alpha=0.3)\n",
    "plt.xticks(fontsize=12, rotation=90)\n",
    "plt.yticks(fontsize=12)\n",
    "plt.show()"
   ]
  },
  {
   "cell_type": "markdown",
   "id": "c3566005",
   "metadata": {},
   "source": [
    "# Data Preprocessing"
   ]
  },
  {
   "cell_type": "code",
   "execution_count": 15,
   "id": "8b8047be",
   "metadata": {},
   "outputs": [
    {
     "data": {
      "text/html": [
       "<div>\n",
       "<style scoped>\n",
       "    .dataframe tbody tr th:only-of-type {\n",
       "        vertical-align: middle;\n",
       "    }\n",
       "\n",
       "    .dataframe tbody tr th {\n",
       "        vertical-align: top;\n",
       "    }\n",
       "\n",
       "    .dataframe thead th {\n",
       "        text-align: right;\n",
       "    }\n",
       "</style>\n",
       "<table border=\"1\" class=\"dataframe\">\n",
       "  <thead>\n",
       "    <tr style=\"text-align: right;\">\n",
       "      <th></th>\n",
       "      <th>Sentence #</th>\n",
       "      <th>Sentence</th>\n",
       "      <th>POS</th>\n",
       "      <th>Tag</th>\n",
       "    </tr>\n",
       "  </thead>\n",
       "  <tbody>\n",
       "    <tr>\n",
       "      <th>0</th>\n",
       "      <td>Sentence: 1</td>\n",
       "      <td>Thousands of demonstrators have marched throug...</td>\n",
       "      <td>['NNS', 'IN', 'NNS', 'VBP', 'VBN', 'IN', 'NNP'...</td>\n",
       "      <td>['O', 'O', 'O', 'O', 'O', 'O', 'B-geo', 'O', '...</td>\n",
       "    </tr>\n",
       "    <tr>\n",
       "      <th>1</th>\n",
       "      <td>Sentence: 2</td>\n",
       "      <td>Families of soldiers killed in the conflict jo...</td>\n",
       "      <td>['NNS', 'IN', 'NNS', 'VBN', 'IN', 'DT', 'NN', ...</td>\n",
       "      <td>['O', 'O', 'O', 'O', 'O', 'O', 'O', 'O', 'O', ...</td>\n",
       "    </tr>\n",
       "    <tr>\n",
       "      <th>2</th>\n",
       "      <td>Sentence: 3</td>\n",
       "      <td>They marched from the Houses of Parliament to ...</td>\n",
       "      <td>['PRP', 'VBD', 'IN', 'DT', 'NNS', 'IN', 'NN', ...</td>\n",
       "      <td>['O', 'O', 'O', 'O', 'O', 'O', 'O', 'O', 'O', ...</td>\n",
       "    </tr>\n",
       "    <tr>\n",
       "      <th>3</th>\n",
       "      <td>Sentence: 4</td>\n",
       "      <td>Police put the number of marchers at 10,000 wh...</td>\n",
       "      <td>['NNS', 'VBD', 'DT', 'NN', 'IN', 'NNS', 'IN', ...</td>\n",
       "      <td>['O', 'O', 'O', 'O', 'O', 'O', 'O', 'O', 'O', ...</td>\n",
       "    </tr>\n",
       "    <tr>\n",
       "      <th>4</th>\n",
       "      <td>Sentence: 5</td>\n",
       "      <td>The protest comes on the eve of the annual con...</td>\n",
       "      <td>['DT', 'NN', 'VBZ', 'IN', 'DT', 'NN', 'IN', 'D...</td>\n",
       "      <td>['O', 'O', 'O', 'O', 'O', 'O', 'O', 'O', 'O', ...</td>\n",
       "    </tr>\n",
       "    <tr>\n",
       "      <th>...</th>\n",
       "      <td>...</td>\n",
       "      <td>...</td>\n",
       "      <td>...</td>\n",
       "      <td>...</td>\n",
       "    </tr>\n",
       "    <tr>\n",
       "      <th>47954</th>\n",
       "      <td>Sentence: 47955</td>\n",
       "      <td>Indian border security forces are accusing the...</td>\n",
       "      <td>['JJ', 'NN', 'NN', 'NNS', 'VBP', 'VBG', 'PRP$'...</td>\n",
       "      <td>['B-gpe', 'O', 'O', 'O', 'O', 'O', 'O', 'B-gpe...</td>\n",
       "    </tr>\n",
       "    <tr>\n",
       "      <th>47955</th>\n",
       "      <td>Sentence: 47956</td>\n",
       "      <td>Indian officials said no one was injured in Sa...</td>\n",
       "      <td>['JJ', 'NNS', 'VBD', 'DT', 'NN', 'VBD', 'VBN',...</td>\n",
       "      <td>['B-gpe', 'O', 'O', 'O', 'O', 'O', 'O', 'O', '...</td>\n",
       "    </tr>\n",
       "    <tr>\n",
       "      <th>47956</th>\n",
       "      <td>Sentence: 47957</td>\n",
       "      <td>Two more landed in fields belonging to a nearb...</td>\n",
       "      <td>['CD', 'JJR', 'VBD', 'IN', 'NNS', 'VBG', 'TO',...</td>\n",
       "      <td>['O', 'O', 'O', 'O', 'O', 'O', 'O', 'O', 'O', ...</td>\n",
       "    </tr>\n",
       "    <tr>\n",
       "      <th>47957</th>\n",
       "      <td>Sentence: 47958</td>\n",
       "      <td>They say not all of the rockets exploded upon ...</td>\n",
       "      <td>['PRP', 'VBP', 'RB', 'DT', 'IN', 'DT', 'NNS', ...</td>\n",
       "      <td>['O', 'O', 'O', 'O', 'O', 'O', 'O', 'O', 'O', ...</td>\n",
       "    </tr>\n",
       "    <tr>\n",
       "      <th>47958</th>\n",
       "      <td>Sentence: 47959</td>\n",
       "      <td>Indian forces said they responded to the attack</td>\n",
       "      <td>['JJ', 'NNS', 'VBD', 'PRP', 'VBD', 'TO', 'DT',...</td>\n",
       "      <td>['B-gpe', 'O', 'O', 'O', 'O', 'O', 'O', 'O']</td>\n",
       "    </tr>\n",
       "  </tbody>\n",
       "</table>\n",
       "<p>47959 rows × 4 columns</p>\n",
       "</div>"
      ],
      "text/plain": [
       "            Sentence #                                           Sentence  \\\n",
       "0          Sentence: 1  Thousands of demonstrators have marched throug...   \n",
       "1          Sentence: 2  Families of soldiers killed in the conflict jo...   \n",
       "2          Sentence: 3  They marched from the Houses of Parliament to ...   \n",
       "3          Sentence: 4  Police put the number of marchers at 10,000 wh...   \n",
       "4          Sentence: 5  The protest comes on the eve of the annual con...   \n",
       "...                ...                                                ...   \n",
       "47954  Sentence: 47955  Indian border security forces are accusing the...   \n",
       "47955  Sentence: 47956  Indian officials said no one was injured in Sa...   \n",
       "47956  Sentence: 47957  Two more landed in fields belonging to a nearb...   \n",
       "47957  Sentence: 47958  They say not all of the rockets exploded upon ...   \n",
       "47958  Sentence: 47959    Indian forces said they responded to the attack   \n",
       "\n",
       "                                                     POS  \\\n",
       "0      ['NNS', 'IN', 'NNS', 'VBP', 'VBN', 'IN', 'NNP'...   \n",
       "1      ['NNS', 'IN', 'NNS', 'VBN', 'IN', 'DT', 'NN', ...   \n",
       "2      ['PRP', 'VBD', 'IN', 'DT', 'NNS', 'IN', 'NN', ...   \n",
       "3      ['NNS', 'VBD', 'DT', 'NN', 'IN', 'NNS', 'IN', ...   \n",
       "4      ['DT', 'NN', 'VBZ', 'IN', 'DT', 'NN', 'IN', 'D...   \n",
       "...                                                  ...   \n",
       "47954  ['JJ', 'NN', 'NN', 'NNS', 'VBP', 'VBG', 'PRP$'...   \n",
       "47955  ['JJ', 'NNS', 'VBD', 'DT', 'NN', 'VBD', 'VBN',...   \n",
       "47956  ['CD', 'JJR', 'VBD', 'IN', 'NNS', 'VBG', 'TO',...   \n",
       "47957  ['PRP', 'VBP', 'RB', 'DT', 'IN', 'DT', 'NNS', ...   \n",
       "47958  ['JJ', 'NNS', 'VBD', 'PRP', 'VBD', 'TO', 'DT',...   \n",
       "\n",
       "                                                     Tag  \n",
       "0      ['O', 'O', 'O', 'O', 'O', 'O', 'B-geo', 'O', '...  \n",
       "1      ['O', 'O', 'O', 'O', 'O', 'O', 'O', 'O', 'O', ...  \n",
       "2      ['O', 'O', 'O', 'O', 'O', 'O', 'O', 'O', 'O', ...  \n",
       "3      ['O', 'O', 'O', 'O', 'O', 'O', 'O', 'O', 'O', ...  \n",
       "4      ['O', 'O', 'O', 'O', 'O', 'O', 'O', 'O', 'O', ...  \n",
       "...                                                  ...  \n",
       "47954  ['B-gpe', 'O', 'O', 'O', 'O', 'O', 'O', 'B-gpe...  \n",
       "47955  ['B-gpe', 'O', 'O', 'O', 'O', 'O', 'O', 'O', '...  \n",
       "47956  ['O', 'O', 'O', 'O', 'O', 'O', 'O', 'O', 'O', ...  \n",
       "47957  ['O', 'O', 'O', 'O', 'O', 'O', 'O', 'O', 'O', ...  \n",
       "47958       ['B-gpe', 'O', 'O', 'O', 'O', 'O', 'O', 'O']  \n",
       "\n",
       "[47959 rows x 4 columns]"
      ]
     },
     "execution_count": 15,
     "metadata": {},
     "output_type": "execute_result"
    }
   ],
   "source": [
    "new_data"
   ]
  },
  {
   "cell_type": "code",
   "execution_count": 16,
   "id": "535d9877",
   "metadata": {},
   "outputs": [
    {
     "name": "stderr",
     "output_type": "stream",
     "text": [
      "IOPub data rate exceeded.\n",
      "The notebook server will temporarily stop sending output\n",
      "to the client in order to avoid crashing it.\n",
      "To change this limit, set the config variable\n",
      "`--NotebookApp.iopub_data_rate_limit`.\n",
      "\n",
      "Current values:\n",
      "NotebookApp.iopub_data_rate_limit=1000000.0 (bytes/sec)\n",
      "NotebookApp.rate_limit_window=3.0 (secs)\n",
      "\n"
     ]
    }
   ],
   "source": [
    "# Get the sentences and tags as lists\n",
    "X = new_data[\"Sentence\"].tolist()\n",
    "Y = new_data[\"Tag\"].tolist()\n",
    "\n",
    "print(X)\n",
    "print(Y)\n"
   ]
  },
  {
   "cell_type": "code",
   "execution_count": 17,
   "id": "5b06553b",
   "metadata": {},
   "outputs": [
    {
     "name": "stdout",
     "output_type": "stream",
     "text": [
      "First two Tags: \n",
      "\n",
      "[['O', 'O', 'O', 'O', 'O', 'O', 'B-geo', 'O', 'O', 'O', 'O', 'O', 'B-geo', 'O', 'O', 'O', 'O', 'O', 'B-gpe', 'O', 'O', 'O', 'O', 'O'], ['O', 'O', 'O', 'O', 'O', 'O', 'O', 'O', 'O', 'O', 'O', 'O', 'O', 'O', 'O', 'O', 'O', 'O', 'B-per', 'O', 'O', 'O', 'O', 'O', 'O', 'O', 'O', 'O', 'O', 'O'], ['O', 'O', 'O', 'O', 'O', 'O', 'O', 'O', 'O', 'O', 'O', 'B-geo', 'I-geo', 'O']]\n",
      "First two sentences: \n",
      "\n",
      "['Thousands of demonstrators have marched through London to protest the war in Iraq and demand the withdrawal of British troops from that country .', 'Families of soldiers killed in the conflict joined the protesters who carried banners with such slogans as \" Bush Number One Terrorist \" and \" Stop the Bombings . \"', 'They marched from the Houses of Parliament to a rally in Hyde Park .']\n"
     ]
    }
   ],
   "source": [
    "from ast import literal_eval\n",
    "Y_ready = [literal_eval(sen_tags) for sen_tags in Y]\n",
    "print(\"First two Tags: \\n\")\n",
    "print(Y_ready[:3])\n",
    "\n",
    "print(\"First two sentences: \\n\")\n",
    "print(X[:3])"
   ]
  },
  {
   "cell_type": "code",
   "execution_count": 18,
   "id": "3cb58116",
   "metadata": {},
   "outputs": [
    {
     "name": "stdout",
     "output_type": "stream",
     "text": [
      "No. of examples: 47959\n"
     ]
    }
   ],
   "source": [
    "from tensorflow.keras.preprocessing.text import Tokenizer\n",
    "from tensorflow.keras.preprocessing.sequence import pad_sequences\n",
    "import pandas as pd\n",
    "\n",
    "# Get the number of examples\n",
    "number_of_examples = len(X)\n",
    "\n",
    "# Print the number of examples\n",
    "print(\"No. of examples:\", number_of_examples)\n"
   ]
  },
  {
   "cell_type": "code",
   "execution_count": 19,
   "id": "5bc78790",
   "metadata": {},
   "outputs": [],
   "source": [
    "import tensorflow as tf\n",
    "from tensorflow.keras.preprocessing.text import Tokenizer\n",
    "from tensorflow.keras.preprocessing.sequence import pad_sequences\n",
    "\n",
    "# Set the maximum number of words per sentence and the maximum number of words in the dataset\n",
    "maxlen = 110\n",
    "max_words = 36000\n",
    "\n",
    "# Create a tokenizer\n",
    "tokenizer = Tokenizer(num_words=max_words, oov_token=\"<UNK>\")\n",
    "\n",
    "# Fit the tokenizer on the sentences\n",
    "tokenizer.fit_on_texts(X)\n",
    "\n",
    "# Convert the sentences to sequences\n",
    "word_index = tokenizer.word_index\n",
    "sequences = []\n",
    "for sentence in X:\n",
    "    sequence = []\n",
    "    for word in sentence.split():\n",
    "        if word in word_index:\n",
    "            sequence.append(word_index[word])\n",
    "        else:\n",
    "            sequence.append(word_index[\"<UNK>\"])\n",
    "    sequences.append(sequence)\n",
    "\n",
    "# Pad the sequences to the maximum length\n",
    "sequences = pad_sequences(sequences, maxlen=maxlen)"
   ]
  },
  {
   "cell_type": "code",
   "execution_count": 20,
   "id": "9728cdd9",
   "metadata": {},
   "outputs": [
    {
     "name": "stdout",
     "output_type": "stream",
     "text": [
      "Found 27954 unique tokens.\n"
     ]
    }
   ],
   "source": [
    "# Get the vocabulary size\n",
    "num_unique_tokens = len(tokenizer.word_index)\n",
    "\n",
    "# Print the number of unique tokens\n",
    "print(f\"Found {num_unique_tokens} unique tokens.\")\n",
    "\n",
    "# Create a dictionary that maps indices to words\n",
    "ind2word = {value: key for key, value in tokenizer.word_index.items()}\n",
    "\n",
    "# Create a dictionary that maps words to indices\n",
    "word2id = tokenizer.word_index\n"
   ]
  },
  {
   "cell_type": "code",
   "execution_count": 21,
   "id": "fd0d4854",
   "metadata": {},
   "outputs": [],
   "source": [
    "# Create a dictionary that maps indices to words\n",
    "id2word = dict(zip(word2id.values(), word2id.keys()))"
   ]
  },
  {
   "cell_type": "code",
   "execution_count": 22,
   "id": "2ab89027",
   "metadata": {},
   "outputs": [
    {
     "name": "stdout",
     "output_type": "stream",
     "text": [
      "[   0    0    0    0    0    0    0    0    0    0    0    0    0    0\n",
      "    0    0    0    0    0    0    0    0    0    0    0    0    0    0\n",
      "    0    0    0    0    0    0    0    0    0    0    0    0    0    0\n",
      "    0    0    0    0    0    0    0    0    0    0    0    0    0    0\n",
      "    0    0    0    0    0    0    0    0    0    0    0    0    0    0\n",
      "    0    0    0    0    0    0    0    0    0    0    0    0    0    0\n",
      "    0    0    1    4  998   14 1839  246    1    5  546    2  122    3\n",
      "    1    7  596    2  862    4    1   90   22   13   55    1]\n"
     ]
    }
   ],
   "source": [
    "# Pad the sequences to the maximum length\n",
    "X_preprocessed = pad_sequences(sequences, maxlen=maxlen, padding='post')\n",
    "\n",
    "# Print the first preprocessed sentence\n",
    "print(X_preprocessed[0])"
   ]
  },
  {
   "cell_type": "code",
   "execution_count": 23,
   "id": "165301a8",
   "metadata": {},
   "outputs": [
    {
     "data": {
      "text/plain": [
       "array([   0,    0,    0,    0,    0,    0,    0,    0,    0,    0,    0,\n",
       "          0,    0,    0,    0,    0,    0,    0,    0,    0,    0,    0,\n",
       "          0,    0,    0,    0,    0,    0,    0,    0,    0,    0,    0,\n",
       "          0,    0,    0,    0,    0,    0,    0,    0,    0,    0,    0,\n",
       "          0,    0,    0,    0,    0,    0,    0,    0,    0,    0,    0,\n",
       "          0,    0,    0,    0,    0,    0,    0,    0,    0,    0,    0,\n",
       "          0,    0,    0,    0,    0,    0,    0,    0,    0,    0,    0,\n",
       "          0,    0,    0,    0,    0,    0,    0,    0,    0,    0,    0,\n",
       "          0,    0,    0,    0,    0,    0,    0,    0,    0,    0,    0,\n",
       "          0,    0,    0,    1, 1454, 1860,  335,    3, 7423, 1700,    1])"
      ]
     },
     "execution_count": 23,
     "metadata": {},
     "output_type": "execute_result"
    }
   ],
   "source": [
    "X_preprocessed[20000]"
   ]
  },
  {
   "cell_type": "code",
   "execution_count": 24,
   "id": "0f22e7cc",
   "metadata": {},
   "outputs": [
    {
     "name": "stdout",
     "output_type": "stream",
     "text": [
      "{'O': 0, 'B-geo': 1, 'B-gpe': 2, 'B-per': 3, 'I-geo': 4, 'B-org': 5, 'I-org': 6, 'B-tim': 7, 'B-art': 8, 'I-art': 9, 'I-per': 10, 'I-gpe': 11, 'I-tim': 12, 'B-nat': 13, 'B-eve': 14, 'I-eve': 15, 'I-nat': 16}\n"
     ]
    }
   ],
   "source": [
    "# Create a dictionary that maps tags to indices\n",
    "tags2id = {}\n",
    "for i, tag in enumerate(unique_tags):\n",
    "    tags2id[tag] = i\n",
    "\n",
    "# Print the tags2id dictionary\n",
    "print(tags2id)"
   ]
  },
  {
   "cell_type": "code",
   "execution_count": 25,
   "id": "f22c9565",
   "metadata": {},
   "outputs": [
    {
     "name": "stdout",
     "output_type": "stream",
     "text": [
      "{0: 'O', 1: 'B-geo', 2: 'B-gpe', 3: 'B-per', 4: 'I-geo', 5: 'B-org', 6: 'I-org', 7: 'B-tim', 8: 'B-art', 9: 'I-art', 10: 'I-per', 11: 'I-gpe', 12: 'I-tim', 13: 'B-nat', 14: 'B-eve', 15: 'I-eve', 16: 'I-nat'}\n"
     ]
    }
   ],
   "source": [
    "# Create a dictionary that maps tags to indices\n",
    "tags2id = dict(zip(unique_tags, np.arange(len(unique_tags))))\n",
    "\n",
    "# Create a dictionary that maps indices to tags\n",
    "id2tag = dict((value, key) for key, value in tags2id.items())\n",
    "\n",
    "# Print the id2tag dictionary\n",
    "print(id2tag)\n"
   ]
  },
  {
   "cell_type": "code",
   "execution_count": 26,
   "id": "c4d42925",
   "metadata": {},
   "outputs": [
    {
     "name": "stdout",
     "output_type": "stream",
     "text": [
      "[0, 0, 0, 0, 0, 0, 1, 0, 0, 0, 0, 0, 1, 0, 0, 0, 0, 0, 2, 0, 0, 0, 0, 0, 0, 0, 0, 0, 0, 0, 0, 0, 0, 0, 0, 0, 0, 0, 0, 0, 0, 0, 0, 0, 0, 0, 0, 0, 0, 0, 0, 0, 0, 0, 0, 0, 0, 0, 0, 0, 0, 0, 0, 0, 0, 0, 0, 0, 0, 0, 0, 0, 0, 0, 0, 0, 0, 0, 0, 0, 0, 0, 0, 0, 0, 0, 0, 0, 0, 0, 0, 0, 0, 0, 0, 0, 0, 0, 0, 0, 0, 0, 0, 0, 0, 0, 0, 0, 0, 0]\n"
     ]
    }
   ],
   "source": [
    "def preprocess_tags(tags2id, Y_ready):\n",
    "    Y_preprocessed = [\n",
    "        [tags2id[tag] for tag in y]\n",
    "        + [tags2id['O']] * (maxlen - len(y))\n",
    "        for y in Y_ready\n",
    "    ]\n",
    "    return Y_preprocessed\n",
    "\n",
    "Y_preprocessed = preprocess_tags(tags2id, Y_ready)\n",
    "print(Y_preprocessed[0])"
   ]
  },
  {
   "cell_type": "code",
   "execution_count": 27,
   "id": "da37b7f4",
   "metadata": {},
   "outputs": [
    {
     "name": "stdout",
     "output_type": "stream",
     "text": [
      "['O', 'O', 'O', 'O', 'O', 'O', 'B-geo', 'O', 'O', 'O', 'O', 'O', 'B-geo', 'O', 'O', 'O', 'O', 'O', 'B-gpe', 'O', 'O', 'O', 'O', 'O']\n"
     ]
    }
   ],
   "source": [
    "print(Y_ready[0])"
   ]
  },
  {
   "cell_type": "code",
   "execution_count": 28,
   "id": "9acc9419",
   "metadata": {},
   "outputs": [],
   "source": [
    "X_preprocessed = np.asarray(X_preprocessed)\n",
    "Y_preprocessed = np.asarray(Y_preprocessed)"
   ]
  },
  {
   "cell_type": "code",
   "execution_count": 29,
   "id": "f342aae2",
   "metadata": {},
   "outputs": [],
   "source": [
    "training_samples = 0.8\n",
    "validation_samples = 0.10\n",
    "testing_samples = 0.10"
   ]
  },
  {
   "cell_type": "code",
   "execution_count": 30,
   "id": "d9b0bd69",
   "metadata": {},
   "outputs": [],
   "source": [
    "indices = np.arange(len(Y_preprocessed))\n",
    "np.random.seed(seed=200)\n",
    "np.random.shuffle(indices)\n",
    "X_preprocessed = X_preprocessed[indices]\n",
    "Y_preprocessed = Y_preprocessed[indices]"
   ]
  },
  {
   "cell_type": "code",
   "execution_count": 31,
   "id": "2ca2f12d",
   "metadata": {},
   "outputs": [
    {
     "name": "stdout",
     "output_type": "stream",
     "text": [
      "Number of training examples: 38367\n",
      "Number of validation examples: 4796\n",
      "Number of testing examples: 4796\n",
      "Total number of examples after shuffling and splitting: 47959\n"
     ]
    }
   ],
   "source": [
    "train_size = int(0.8 * len(X_preprocessed))\n",
    "val_size = int(0.10 * len(X_preprocessed)) + 1\n",
    "\n",
    "X_train = X_preprocessed[:train_size]\n",
    "X_val = X_preprocessed[train_size:train_size + val_size]\n",
    "X_test = X_preprocessed[train_size + val_size:]\n",
    "\n",
    "print(\"Number of training examples: {}\".format(len(X_train)))\n",
    "print(\"Number of validation examples: {}\".format(len(X_val)))\n",
    "print(\"Number of testing examples: {}\".format(len(X_test)))\n",
    "\n",
    "Y_train = Y_preprocessed[:train_size]\n",
    "Y_val = Y_preprocessed[train_size:train_size + val_size]\n",
    "Y_test = Y_preprocessed[train_size + val_size:]\n",
    "\n",
    "total_examples = len(X_train) + len(X_val) + len(X_test)\n",
    "print(\"Total number of examples after shuffling and splitting: {}\".format(total_examples))\n"
   ]
  },
  {
   "cell_type": "code",
   "execution_count": 32,
   "id": "a82b407a",
   "metadata": {},
   "outputs": [],
   "source": [
    "train_dataset = tf.data.Dataset.from_tensor_slices((X_train, Y_train))\n",
    "val_dataset = tf.data.Dataset.from_tensor_slices((X_val, Y_val))\n",
    "test_dataset = tf.data.Dataset.from_tensor_slices((X_test, Y_test))"
   ]
  },
  {
   "cell_type": "code",
   "execution_count": 33,
   "id": "4bb5d9e7",
   "metadata": {},
   "outputs": [],
   "source": [
    "import tensorflow as tf\n",
    "\n",
    "BATCH_SIZE = 150\n",
    "SHUFFLE_BUFFER_SIZE = 150\n",
    "\n",
    "train_dataset = tf.data.Dataset.from_tensor_slices((X_train, Y_train))\n",
    "train_dataset = train_dataset.shuffle(SHUFFLE_BUFFER_SIZE).batch(BATCH_SIZE)\n",
    "\n",
    "val_dataset = tf.data.Dataset.from_tensor_slices((X_val, Y_val))\n",
    "val_dataset = val_dataset.batch(BATCH_SIZE)\n",
    "\n",
    "test_dataset = tf.data.Dataset.from_tensor_slices((X_test, Y_test))\n",
    "test_dataset = test_dataset.batch(BATCH_SIZE)"
   ]
  },
  {
   "cell_type": "code",
   "execution_count": 34,
   "id": "c392f7ec",
   "metadata": {},
   "outputs": [
    {
     "name": "stdout",
     "output_type": "stream",
     "text": [
      "Model: \"sequential\"\n",
      "_________________________________________________________________\n",
      " Layer (type)                Output Shape              Param #   \n",
      "=================================================================\n",
      " embedding (Embedding)       (None, 110, 350)          12600000  \n",
      "                                                                 \n",
      " bidirectional (Bidirection  (None, 110, 200)          360800    \n",
      " al)                                                             \n",
      "                                                                 \n",
      " bidirectional_1 (Bidirecti  (None, 110, 200)          240800    \n",
      " onal)                                                           \n",
      "                                                                 \n",
      " time_distributed (TimeDist  (None, 110, 17)           3417      \n",
      " ributed)                                                        \n",
      "                                                                 \n",
      "=================================================================\n",
      "Total params: 13205017 (50.37 MB)\n",
      "Trainable params: 13205017 (50.37 MB)\n",
      "Non-trainable params: 0 (0.00 Byte)\n",
      "_________________________________________________________________\n"
     ]
    }
   ],
   "source": [
    "embedding_dim = 350\n",
    "maxlen = 110\n",
    "max_words = 36000\n",
    "num_tags = len(unique_tags)\n",
    "\n",
    "model = tf.keras.models.Sequential([\n",
    "    tf.keras.layers.Embedding(max_words, embedding_dim, input_length=maxlen),\n",
    "    tf.keras.layers.Bidirectional(tf.keras.layers.LSTM(units=100, activation='tanh', return_sequences=True)),\n",
    "    tf.keras.layers.Bidirectional(tf.keras.layers.LSTM(units=100, activation='tanh', return_sequences=True)),\n",
    "    tf.keras.layers.TimeDistributed(tf.keras.layers.Dense(num_tags, activation='softmax'))\n",
    "])\n",
    "model.summary()"
   ]
  },
  {
   "cell_type": "code",
   "execution_count": 35,
   "id": "298e222e",
   "metadata": {},
   "outputs": [],
   "source": [
    "import tensorflow as tf\n",
    "\n",
    "model.compile(loss=tf.keras.losses.sparse_categorical_crossentropy,\n",
    "              optimizer=tf.keras.optimizers.Adam(),\n",
    "              metrics=[tf.metrics.sparse_categorical_accuracy])"
   ]
  },
  {
   "cell_type": "code",
   "execution_count": 36,
   "id": "2c8620e2",
   "metadata": {},
   "outputs": [
    {
     "name": "stdout",
     "output_type": "stream",
     "text": [
      "Epoch 1/10\n",
      "256/256 [==============================] - 539s 2s/step - loss: 0.2156 - sparse_categorical_accuracy: 0.9658 - val_loss: 0.1584 - val_sparse_categorical_accuracy: 0.9694\n",
      "Epoch 2/10\n",
      "256/256 [==============================] - 553s 2s/step - loss: 0.1571 - sparse_categorical_accuracy: 0.9695 - val_loss: 0.1583 - val_sparse_categorical_accuracy: 0.9694\n",
      "Epoch 3/10\n",
      "256/256 [==============================] - 574s 2s/step - loss: 0.1567 - sparse_categorical_accuracy: 0.9695 - val_loss: 0.1576 - val_sparse_categorical_accuracy: 0.9694\n",
      "Epoch 4/10\n",
      "256/256 [==============================] - 588s 2s/step - loss: 0.1566 - sparse_categorical_accuracy: 0.9695 - val_loss: 0.1576 - val_sparse_categorical_accuracy: 0.9694\n",
      "Epoch 5/10\n",
      "256/256 [==============================] - 573s 2s/step - loss: 0.1564 - sparse_categorical_accuracy: 0.9695 - val_loss: 0.1574 - val_sparse_categorical_accuracy: 0.9694\n",
      "Epoch 6/10\n",
      "256/256 [==============================] - 583s 2s/step - loss: 0.1564 - sparse_categorical_accuracy: 0.9695 - val_loss: 0.1574 - val_sparse_categorical_accuracy: 0.9694\n",
      "Epoch 7/10\n",
      "256/256 [==============================] - 591s 2s/step - loss: 0.1563 - sparse_categorical_accuracy: 0.9695 - val_loss: 0.1576 - val_sparse_categorical_accuracy: 0.9694\n",
      "Epoch 8/10\n",
      "256/256 [==============================] - 555s 2s/step - loss: 0.1563 - sparse_categorical_accuracy: 0.9695 - val_loss: 0.1574 - val_sparse_categorical_accuracy: 0.9694\n",
      "Epoch 9/10\n",
      "256/256 [==============================] - 600s 2s/step - loss: 0.1563 - sparse_categorical_accuracy: 0.9695 - val_loss: 0.1573 - val_sparse_categorical_accuracy: 0.9694\n",
      "Epoch 10/10\n",
      "256/256 [==============================] - 602s 2s/step - loss: 0.1562 - sparse_categorical_accuracy: 0.9695 - val_loss: 0.1574 - val_sparse_categorical_accuracy: 0.9694\n"
     ]
    }
   ],
   "source": [
    "history = model.fit(train_dataset,\n",
    "                    validation_data=val_dataset,\n",
    "                    epochs=10,\n",
    "                    verbose=1)\n"
   ]
  },
  {
   "cell_type": "code",
   "execution_count": 37,
   "id": "2a90c146",
   "metadata": {},
   "outputs": [
    {
     "name": "stdout",
     "output_type": "stream",
     "text": [
      "32/32 [==============================] - 9s 295ms/step - loss: 0.1561 - sparse_categorical_accuracy: 0.9697\n",
      "Test loss: 0.1561\n",
      "Test accuracy: 0.9697\n"
     ]
    }
   ],
   "source": [
    "import tensorflow as tf\n",
    "\n",
    "test_loss, test_accuracy = model.evaluate(test_dataset)\n",
    "\n",
    "print(\"Test loss: {:.4f}\".format(test_loss))\n",
    "print(\"Test accuracy: {:.4f}\".format(test_accuracy))\n"
   ]
  },
  {
   "cell_type": "code",
   "execution_count": 41,
   "id": "5875eb90",
   "metadata": {},
   "outputs": [
    {
     "data": {
      "image/png": "[encoded data removed]",
      "text/plain": [
       "<Figure size 1000x500 with 2 Axes>"
      ]
     },
     "metadata": {},
     "output_type": "display_data"
    }
   ],
   "source": [
    "import tensorflow as tf\n",
    "import matplotlib.pyplot as plt\n",
    "\n",
    "def plot_training_history(history):\n",
    "    acc = history.history['sparse_categorical_accuracy']\n",
    "    val_acc = history.history['val_sparse_categorical_accuracy']\n",
    "    loss = history.history['loss']\n",
    "    val_loss = history.history['val_loss']\n",
    "    epochs = range(1, len(acc) + 1)\n",
    "\n",
    "    plt.figure(figsize=(10, 5))\n",
    "    plt.subplot(1, 2, 1)\n",
    "    plt.plot(epochs, acc, label='Training Accuracy', color='darkblue')\n",
    "    plt.plot(epochs, val_acc, label='Validation Accuracy', color='darkgreen')\n",
    "    plt.grid(alpha=0.3)\n",
    "    plt.title('Training Vs Validation Accuracy')\n",
    "    plt.fill_between(epochs, acc, val_acc, color='black', alpha=0.3)\n",
    "    plt.xlabel('Epochs')\n",
    "    plt.ylabel('Accuracy')\n",
    "    plt.legend()\n",
    "\n",
    "    plt.subplot(1, 2, 2)\n",
    "    plt.plot(epochs, loss, label='Training Loss', color='darkblue')\n",
    "    plt.plot(epochs, val_loss, label='Validation Loss', color='darkgreen')\n",
    "    plt.grid(alpha=0.3)\n",
    "    plt.title('Training Vs Validation Loss')\n",
    "    plt.fill_between(epochs, loss, val_loss, color='black', alpha=0.3)\n",
    "    plt.xlabel('Epochs')\n",
    "    plt.ylabel('Loss')\n",
    "    plt.legend()\n",
    "\n",
    "    plt.tight_layout()\n",
    "    plt.show()\n",
    "\n",
    "plot_training_history(history)"
   ]
  },
  {
   "cell_type": "code",
   "execution_count": 51,
   "id": "8617e4b6",
   "metadata": {},
   "outputs": [],
   "source": [
    "def make_prediction(model, preprocessed_sentence, id2word, id2tag):\n",
    "    preprocessed_sentence = preprocessed_sentence.reshape((1, 110))\n",
    "    \n",
    "    sentence = preprocessed_sentence[preprocessed_sentence > 0]\n",
    "    word_list = [id2word[word] for word in list(sentence)]\n",
    "    original_sentence = ' '.join(word_list)\n",
    "    \n",
    "    len_original_sentence = len(word_list)\n",
    "    \n",
    "    prediction = model.predict(preprocessed_sentence)\n",
    "    prediction = np.argmax(prediction[0], axis=1)\n",
    "    \n",
    "    prediction = list(prediction)[:len_original_sentence]\n",
    "    \n",
    "    pred_tag_list = [id2tag[tag_id] for tag_id in prediction]\n",
    "    \n",
    "    return original_sentence, pred_tag_list\n"
   ]
  },
  {
   "cell_type": "code",
   "execution_count": 52,
   "id": "ebf5887b",
   "metadata": {},
   "outputs": [
    {
     "name": "stdout",
     "output_type": "stream",
     "text": [
      "1/1 [==============================] - 0s 38ms/step\n"
     ]
    }
   ],
   "source": [
    "orginal_sententce,  pred_tag_list = make_prediction(model=model,\n",
    "                                                    preprocessed_sentence=X_test[520],\n",
    "                                                    id2word=id2word,\n",
    "                                                    id2tag=id2tag)"
   ]
  },
  {
   "cell_type": "code",
   "execution_count": 53,
   "id": "640c2efd",
   "metadata": {},
   "outputs": [
    {
     "name": "stdout",
     "output_type": "stream",
     "text": [
      "<UNK> deployed soldiers there to stop insurgents from fleeing into <UNK> after a major <UNK> offensive against the <UNK> in <UNK> 's southern <UNK> province <UNK> which borders <UNK> <UNK>\n"
     ]
    }
   ],
   "source": [
    "print(orginal_sententce)"
   ]
  }
 ],
 "metadata": {
  "kernelspec": {
   "display_name": "Python 3 (ipykernel)",
   "language": "python",
   "name": "python3"
  },
  "language_info": {
   "codemirror_mode": {
    "name": "ipython",
    "version": 3
   },
   "file_extension": ".py",
   "mimetype": "text/x-python",
   "name": "python",
   "nbconvert_exporter": "python",
   "pygments_lexer": "ipython3",
   "version": "3.9.13"
  }
 },
 "nbformat": 4,
 "nbformat_minor": 5
}
